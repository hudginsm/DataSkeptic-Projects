{
 "cells": [
  {
   "cell_type": "code",
   "execution_count": 1,
   "metadata": {
    "dotnet_interactive": {
     "language": "csharp"
    },
    "polyglot_notebook": {
     "kernelName": "csharp"
    }
   },
   "outputs": [
    {
     "data": {
      "text/html": [
       "<div><div></div><div></div><div><strong>Installed Packages</strong><ul><li><span>Microsoft.Data.Analysis, 0.21.0</span></li><li><span>Microsoft.ML, 3.0.0</span></li><li><span>System.Data.Odbc, 8.0.0</span></li><li><span>System.Data.OleDb, 8.0.0</span></li><li><span>System.Data.SqlClient, 4.8.5</span></li></ul></div></div>"
      ]
     },
     "metadata": {},
     "output_type": "display_data"
    },
    {
     "data": {
      "text/plain": [
       "Loading extensions from `C:\\Users\\hudgi\\.nuget\\packages\\microsoft.data.analysis\\0.21.0\\interactive-extensions\\dotnet\\Microsoft.Data.Analysis.Interactive.dll`"
      ]
     },
     "metadata": {},
     "output_type": "display_data"
    }
   ],
   "source": [
    "#r \"nuget: Microsoft.Data.Analysis, 0.21.0\"\n",
    "#r \"nuget: Microsoft.ML\"\n",
    "#r \"nuget: System.Data.SqlClient\"\n",
    "#r \"nuget: System.Data.OleDb\"\n",
    "#r \"nuget: System.Data.Odbc\""
   ]
  },
  {
   "cell_type": "code",
   "execution_count": 2,
   "metadata": {
    "dotnet_interactive": {
     "language": "csharp"
    },
    "polyglot_notebook": {
     "kernelName": "csharp"
    }
   },
   "outputs": [
    {
     "data": {
      "text/html": [
       "<table id=\"table_638403657754330852\"><thead><tr><th><i>index</i></th><th>Info</th><th>index</th><th>Year</th><th>Gender</th><th>Age Group</th><th>Metric</th><th>Estimated Percent</th><th>Estimated Population</th></tr></thead><tbody><tr><td><i><div class=\"dni-plaintext\"><pre>0</pre></div></i></td><td>DataType</td><td>System.Single</td><td>System.Single</td><td>System.String</td><td>System.String</td><td>System.String</td><td>System.Single</td><td>System.Single</td></tr><tr><td><i><div class=\"dni-plaintext\"><pre>1</pre></div></i></td><td>Length (excluding null values)</td><td>936</td><td>936</td><td>936</td><td>936</td><td>936</td><td>936</td><td>936</td></tr></tbody></table><style>\r\n",
       ".dni-code-hint {\r\n",
       "    font-style: italic;\r\n",
       "    overflow: hidden;\r\n",
       "    white-space: nowrap;\r\n",
       "}\r\n",
       ".dni-treeview {\r\n",
       "    white-space: nowrap;\r\n",
       "}\r\n",
       ".dni-treeview td {\r\n",
       "    vertical-align: top;\r\n",
       "    text-align: start;\r\n",
       "}\r\n",
       "details.dni-treeview {\r\n",
       "    padding-left: 1em;\r\n",
       "}\r\n",
       "table td {\r\n",
       "    text-align: start;\r\n",
       "}\r\n",
       "table tr { \r\n",
       "    vertical-align: top; \r\n",
       "    margin: 0em 0px;\r\n",
       "}\r\n",
       "table tr td pre \r\n",
       "{ \r\n",
       "    vertical-align: top !important; \r\n",
       "    margin: 0em 0px !important;\r\n",
       "} \r\n",
       "table th {\r\n",
       "    text-align: start;\r\n",
       "}\r\n",
       "</style>"
      ]
     },
     "metadata": {},
     "output_type": "display_data"
    },
    {
     "data": {
      "text/html": [
       "<table id=\"table_638403657754587381\"><thead><tr><th><i>index</i></th><th>index</th><th>Year</th><th>Gender</th><th>Age Group</th><th>Metric</th><th>Estimated Percent</th><th>Estimated Population</th></tr></thead><tbody><tr><td><i><div class=\"dni-plaintext\"><pre>0</pre></div></i></td><td><div class=\"dni-plaintext\"><pre>0</pre></div></td><td><div class=\"dni-plaintext\"><pre>2008</pre></div></td><td>Male</td><td>15 to 19 years</td><td>Total</td><td><div class=\"dni-plaintext\"><pre>1</pre></div></td><td><div class=\"dni-plaintext\"><pre>11241214</pre></div></td></tr><tr><td><i><div class=\"dni-plaintext\"><pre>1</pre></div></i></td><td><div class=\"dni-plaintext\"><pre>1</pre></div></td><td><div class=\"dni-plaintext\"><pre>2008</pre></div></td><td>Male</td><td>20 to 34 years</td><td>Total</td><td><div class=\"dni-plaintext\"><pre>1</pre></div></td><td><div class=\"dni-plaintext\"><pre>31342886</pre></div></td></tr><tr><td><i><div class=\"dni-plaintext\"><pre>2</pre></div></i></td><td><div class=\"dni-plaintext\"><pre>2</pre></div></td><td><div class=\"dni-plaintext\"><pre>2008</pre></div></td><td>Male</td><td>35 to 44 years</td><td>Total</td><td><div class=\"dni-plaintext\"><pre>1</pre></div></td><td><div class=\"dni-plaintext\"><pre>21426308</pre></div></td></tr><tr><td><i><div class=\"dni-plaintext\"><pre>3</pre></div></i></td><td><div class=\"dni-plaintext\"><pre>3</pre></div></td><td><div class=\"dni-plaintext\"><pre>2008</pre></div></td><td>Male</td><td>45 to 54 years</td><td>Total</td><td><div class=\"dni-plaintext\"><pre>1</pre></div></td><td><div class=\"dni-plaintext\"><pre>21889604</pre></div></td></tr><tr><td><i><div class=\"dni-plaintext\"><pre>4</pre></div></i></td><td><div class=\"dni-plaintext\"><pre>4</pre></div></td><td><div class=\"dni-plaintext\"><pre>2008</pre></div></td><td>Male</td><td>55 to 64 years</td><td>Total</td><td><div class=\"dni-plaintext\"><pre>1</pre></div></td><td><div class=\"dni-plaintext\"><pre>16251184</pre></div></td></tr><tr><td><i><div class=\"dni-plaintext\"><pre>5</pre></div></i></td><td><div class=\"dni-plaintext\"><pre>5</pre></div></td><td><div class=\"dni-plaintext\"><pre>2008</pre></div></td><td>Male</td><td>65 years and over</td><td>Total</td><td><div class=\"dni-plaintext\"><pre>1</pre></div></td><td><div class=\"dni-plaintext\"><pre>16421811</pre></div></td></tr><tr><td><i><div class=\"dni-plaintext\"><pre>6</pre></div></i></td><td><div class=\"dni-plaintext\"><pre>6</pre></div></td><td><div class=\"dni-plaintext\"><pre>2008</pre></div></td><td>Female</td><td>15 to 19 years</td><td>Total</td><td><div class=\"dni-plaintext\"><pre>1</pre></div></td><td><div class=\"dni-plaintext\"><pre>10671352</pre></div></td></tr><tr><td><i><div class=\"dni-plaintext\"><pre>7</pre></div></i></td><td><div class=\"dni-plaintext\"><pre>7</pre></div></td><td><div class=\"dni-plaintext\"><pre>2008</pre></div></td><td>Female</td><td>20 to 34 years</td><td>Total</td><td><div class=\"dni-plaintext\"><pre>1</pre></div></td><td><div class=\"dni-plaintext\"><pre>29987384</pre></div></td></tr><tr><td><i><div class=\"dni-plaintext\"><pre>8</pre></div></i></td><td><div class=\"dni-plaintext\"><pre>8</pre></div></td><td><div class=\"dni-plaintext\"><pre>2008</pre></div></td><td>Female</td><td>35 to 44 years</td><td>Total</td><td><div class=\"dni-plaintext\"><pre>1</pre></div></td><td><div class=\"dni-plaintext\"><pre>21318284</pre></div></td></tr><tr><td><i><div class=\"dni-plaintext\"><pre>9</pre></div></i></td><td><div class=\"dni-plaintext\"><pre>9</pre></div></td><td><div class=\"dni-plaintext\"><pre>2008</pre></div></td><td>Female</td><td>45 to 54 years</td><td>Total</td><td><div class=\"dni-plaintext\"><pre>1</pre></div></td><td><div class=\"dni-plaintext\"><pre>22546048</pre></div></td></tr></tbody></table><style>\r\n",
       ".dni-code-hint {\r\n",
       "    font-style: italic;\r\n",
       "    overflow: hidden;\r\n",
       "    white-space: nowrap;\r\n",
       "}\r\n",
       ".dni-treeview {\r\n",
       "    white-space: nowrap;\r\n",
       "}\r\n",
       ".dni-treeview td {\r\n",
       "    vertical-align: top;\r\n",
       "    text-align: start;\r\n",
       "}\r\n",
       "details.dni-treeview {\r\n",
       "    padding-left: 1em;\r\n",
       "}\r\n",
       "table td {\r\n",
       "    text-align: start;\r\n",
       "}\r\n",
       "table tr { \r\n",
       "    vertical-align: top; \r\n",
       "    margin: 0em 0px;\r\n",
       "}\r\n",
       "table tr td pre \r\n",
       "{ \r\n",
       "    vertical-align: top !important; \r\n",
       "    margin: 0em 0px !important;\r\n",
       "} \r\n",
       "table th {\r\n",
       "    text-align: start;\r\n",
       "}\r\n",
       "</style>"
      ]
     },
     "metadata": {},
     "output_type": "display_data"
    },
    {
     "data": {
      "text/html": [
       "<table id=\"table_638403657754626915\"><thead><tr><th><i>index</i></th><th>Description</th><th>index</th><th>Year</th><th>Estimated Percent</th><th>Estimated Population</th></tr></thead><tbody><tr><td><i><div class=\"dni-plaintext\"><pre>0</pre></div></i></td><td>Length (excluding null values)</td><td><div class=\"dni-plaintext\"><pre>936</pre></div></td><td><div class=\"dni-plaintext\"><pre>936</pre></div></td><td><div class=\"dni-plaintext\"><pre>936</pre></div></td><td><div class=\"dni-plaintext\"><pre>936</pre></div></td></tr><tr><td><i><div class=\"dni-plaintext\"><pre>1</pre></div></i></td><td>Max</td><td><div class=\"dni-plaintext\"><pre>935</pre></div></td><td><div class=\"dni-plaintext\"><pre>2017</pre></div></td><td><div class=\"dni-plaintext\"><pre>1</pre></div></td><td><div class=\"dni-plaintext\"><pre>34024468</pre></div></td></tr><tr><td><i><div class=\"dni-plaintext\"><pre>2</pre></div></i></td><td>Min</td><td><div class=\"dni-plaintext\"><pre>0</pre></div></td><td><div class=\"dni-plaintext\"><pre>2005</pre></div></td><td><div class=\"dni-plaintext\"><pre>0</pre></div></td><td><div class=\"dni-plaintext\"><pre>0</pre></div></td></tr><tr><td><i><div class=\"dni-plaintext\"><pre>3</pre></div></i></td><td>Mean</td><td><div class=\"dni-plaintext\"><pre>467.5</pre></div></td><td><div class=\"dni-plaintext\"><pre>2011</pre></div></td><td><div class=\"dni-plaintext\"><pre>0.3333335</pre></div></td><td><div class=\"dni-plaintext\"><pre>6936855.5</pre></div></td></tr></tbody></table><style>\r\n",
       ".dni-code-hint {\r\n",
       "    font-style: italic;\r\n",
       "    overflow: hidden;\r\n",
       "    white-space: nowrap;\r\n",
       "}\r\n",
       ".dni-treeview {\r\n",
       "    white-space: nowrap;\r\n",
       "}\r\n",
       ".dni-treeview td {\r\n",
       "    vertical-align: top;\r\n",
       "    text-align: start;\r\n",
       "}\r\n",
       "details.dni-treeview {\r\n",
       "    padding-left: 1em;\r\n",
       "}\r\n",
       "table td {\r\n",
       "    text-align: start;\r\n",
       "}\r\n",
       "table tr { \r\n",
       "    vertical-align: top; \r\n",
       "    margin: 0em 0px;\r\n",
       "}\r\n",
       "table tr td pre \r\n",
       "{ \r\n",
       "    vertical-align: top !important; \r\n",
       "    margin: 0em 0px !important;\r\n",
       "} \r\n",
       "table th {\r\n",
       "    text-align: start;\r\n",
       "}\r\n",
       "</style>"
      ]
     },
     "metadata": {},
     "output_type": "display_data"
    }
   ],
   "source": [
    "using Microsoft.Data.Analysis;\n",
    "\n",
    "string fileName = \"Week 30 - United States Marriage Status 2005 to 2017.csv\";\n",
    "var marriageDf = DataFrame.LoadCsv(fileName);\n",
    "\n",
    "marriageDf.Info().Display();\n",
    "marriageDf.Head(10).Display();\n",
    "marriageDf.Description().Display();"
   ]
  },
  {
   "cell_type": "code",
   "execution_count": 5,
   "metadata": {
    "dotnet_interactive": {
     "language": "csharp"
    },
    "polyglot_notebook": {
     "kernelName": "csharp"
    }
   },
   "outputs": [
    {
     "data": {
      "text/html": [
       "<table id=\"table_638403657981687805\"><thead><tr><th><i>index</i></th><th>Info</th><th>rowid</th><th>iso3</th><th>country</th><th>continent</th><th>hemisphere</th><th>devgrps</th><th>devregions</th><th>hdirank2021</th><th>ratio1990</th><th>ratio1991</th><th>ratio1992</th><th>ratio1993</th><th>ratio1994</th><th>ratio1995</th><th>ratio1996</th><th>ratio1997</th><th>ratio1998</th><th>ratio1999</th><th>ratio2000</th><th>ratio2001</th><th>ratio2002</th><th>ratio2003</th><th>ratio2004</th><th>ratio2005</th><th>ratio2006</th><th>ratio2007</th><th>ratio2008</th><th>ratio2009</th><th>ratio2010</th><th>ratio2011</th><th>ratio2012</th><th>ratio2013</th><th>ratio2014</th><th>ratio2015</th><th>ratio2016</th><th>ratio2017</th><th>ratio2018</th><th>ratio2019</th><th>ratio2020</th><th>ratio2021</th></tr></thead><tbody><tr><td><i><div class=\"dni-plaintext\"><pre>0</pre></div></i></td><td>DataType</td><td>System.Int32</td><td>System.String</td><td>System.String</td><td>System.String</td><td>System.String</td><td>System.String</td><td>System.String</td><td>System.Int32</td><td>System.Int32</td><td>System.Int32</td><td>System.Int32</td><td>System.Int32</td><td>System.Int32</td><td>System.Int32</td><td>System.Int32</td><td>System.Int32</td><td>System.Int32</td><td>System.Int32</td><td>System.Int32</td><td>System.Int32</td><td>System.Int32</td><td>System.Int32</td><td>System.Int32</td><td>System.Int32</td><td>System.Int32</td><td>System.Int32</td><td>System.Int32</td><td>System.Int32</td><td>System.Int32</td><td>System.Int32</td><td>System.Int32</td><td>System.Int32</td><td>System.Int32</td><td>System.Int32</td><td>System.Int32</td><td>System.Int32</td><td>System.Int32</td><td>System.Int32</td><td>System.Int32</td><td>System.Int32</td></tr><tr><td><i><div class=\"dni-plaintext\"><pre>1</pre></div></i></td><td>Length (excluding null values)</td><td>0</td><td>0</td><td>0</td><td>0</td><td>0</td><td>0</td><td>0</td><td>0</td><td>0</td><td>0</td><td>0</td><td>0</td><td>0</td><td>0</td><td>0</td><td>0</td><td>0</td><td>0</td><td>0</td><td>0</td><td>0</td><td>0</td><td>0</td><td>0</td><td>0</td><td>0</td><td>0</td><td>0</td><td>0</td><td>0</td><td>0</td><td>0</td><td>0</td><td>0</td><td>0</td><td>0</td><td>0</td><td>0</td><td>0</td><td>0</td></tr></tbody></table><style>\r\n",
       ".dni-code-hint {\r\n",
       "    font-style: italic;\r\n",
       "    overflow: hidden;\r\n",
       "    white-space: nowrap;\r\n",
       "}\r\n",
       ".dni-treeview {\r\n",
       "    white-space: nowrap;\r\n",
       "}\r\n",
       ".dni-treeview td {\r\n",
       "    vertical-align: top;\r\n",
       "    text-align: start;\r\n",
       "}\r\n",
       "details.dni-treeview {\r\n",
       "    padding-left: 1em;\r\n",
       "}\r\n",
       "table td {\r\n",
       "    text-align: start;\r\n",
       "}\r\n",
       "table tr { \r\n",
       "    vertical-align: top; \r\n",
       "    margin: 0em 0px;\r\n",
       "}\r\n",
       "table tr td pre \r\n",
       "{ \r\n",
       "    vertical-align: top !important; \r\n",
       "    margin: 0em 0px !important;\r\n",
       "} \r\n",
       "table th {\r\n",
       "    text-align: start;\r\n",
       "}\r\n",
       "</style>"
      ]
     },
     "metadata": {},
     "output_type": "display_data"
    }
   ],
   "source": [
    "using System.Data.Common;\n",
    "\n",
    "string factory = \"System.Data.SqlClient\";\n",
    "string connStr = \"Server=localhost;Database=DataSkeptic; Integrated Security=True; Trusted_Connection=True;\";\n",
    "string query = \"SELECT * FROM analysis.maternal_mortality_1990_2021;\";\n",
    "\n",
    "DbProviderFactories.RegisterFactory(factory, System.Data.SqlClient.SqlClientFactory.Instance);\n",
    "DbProviderFactory fact = DbProviderFactories.GetFactory(factory);\n",
    "DbConnection conn = fact.CreateConnection();\n",
    "conn.ConnectionString = connStr;\n",
    "DbCommand cmd = conn.CreateCommand();\n",
    "cmd.CommandText = query;\n",
    "conn.Open();\n",
    "\n",
    "DbDataReader rdr = cmd.ExecuteReader();\n",
    "DataFrame df = DataFrame.FromSchema(rdr);\n",
    "df.Info().Display();"
   ]
  },
  {
   "cell_type": "code",
   "execution_count": null,
   "metadata": {
    "dotnet_interactive": {
     "language": "csharp"
    },
    "polyglot_notebook": {
     "kernelName": "csharp"
    }
   },
   "outputs": [],
   "source": []
  }
 ],
 "metadata": {
  "kernelspec": {
   "display_name": ".NET (C#)",
   "language": "C#",
   "name": ".net-csharp"
  },
  "language_info": {
   "name": "polyglot-notebook"
  },
  "polyglot_notebook": {
   "kernelInfo": {
    "defaultKernelName": "csharp",
    "items": [
     {
      "aliases": [],
      "languageName": "csharp",
      "name": "csharp"
     }
    ]
   }
  }
 },
 "nbformat": 4,
 "nbformat_minor": 2
}
