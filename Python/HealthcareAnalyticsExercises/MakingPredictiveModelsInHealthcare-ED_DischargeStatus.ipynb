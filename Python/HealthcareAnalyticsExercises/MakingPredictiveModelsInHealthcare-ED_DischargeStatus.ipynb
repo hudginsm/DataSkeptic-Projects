{
 "cells": [
  {
   "cell_type": "code",
   "execution_count": 1,
   "id": "5cf914a4",
   "metadata": {},
   "outputs": [
    {
     "name": "stdout",
     "output_type": "stream",
     "text": [
      "   width column_name  variable_type\n",
      "0      2      VMONTH    CATEGORICAL\n",
      "1      1       VDAYR    CATEGORICAL\n",
      "2      4     ARRTIME  NONPREDICTIVE\n",
      "3      4    WAITTIME     CONTINUOUS\n",
      "4      4         LOV  NONPREDICTIVE\n"
     ]
    }
   ],
   "source": [
    "import pandas as pd\n",
    "pd.set_option('mode.chained_assignment',None)\n",
    "\n",
    "HOME_PATH = r\"~/git_repo/DataSkeptic-Projects/DataSets/NHAMCS_Data_Files/\"\n",
    "\n",
    "df_helper = pd.read_csv(\n",
    "    HOME_PATH + 'ED_metadata.csv',\n",
    "    header=0,\n",
    "    dtype={'width': int, 'column_name': str, 'variable_type': str}\n",
    ")\n",
    "\n",
    "print(df_helper.head(n=5))"
   ]
  },
  {
   "cell_type": "code",
   "execution_count": 3,
   "id": "76c095e2",
   "metadata": {},
   "outputs": [],
   "source": [
    "width = df_helper['width'].tolist()\n",
    "col_names = df_helper['column_name'].tolist()\n",
    "var_types = df_helper['variable_type'].tolist()"
   ]
  },
  {
   "cell_type": "code",
   "execution_count": 4,
   "id": "36620bd5",
   "metadata": {},
   "outputs": [],
   "source": [
    "df_ed = pd.read_fwf(\n",
    "    HOME_PATH + 'ED2013',\n",
    "    widths=width,\n",
    "    header=None,\n",
    "    dtype='str'\n",
    ")\n",
    "\n",
    "df_ed.columns = col_names"
   ]
  },
  {
   "cell_type": "code",
   "execution_count": 5,
   "id": "7cc92bed",
   "metadata": {},
   "outputs": [
    {
     "name": "stdout",
     "output_type": "stream",
     "text": [
      "  VMONTH VDAYR ARRTIME WAITTIME   LOV  AGE AGER AGEDAYS RESIDNCE SEX ...   \\\n",
      "0     01     3    0647     0033  0058  046    4     -07       01   2 ...    \n",
      "1     01     3    1841     0109  0150  056    4     -07       01   2 ...    \n",
      "2     01     3    1333     0084  0198  037    3     -07       01   2 ...    \n",
      "3     01     3    1401     0159  0276  007    1     -07       01   1 ...    \n",
      "4     01     4    1947     0114  0248  053    4     -07       01   1 ...    \n",
      "\n",
      "  RX12V3C1 RX12V3C2 RX12V3C3 RX12V3C4 SETTYPE  YEAR   CSTRATM   CPSUM   PATWT  \\\n",
      "0      nan      nan      nan      nan       3  2013  20113201  100020  002945   \n",
      "1      nan      nan      nan      nan       3  2013  20113201  100020  002945   \n",
      "2      nan      nan      nan      nan       3  2013  20113201  100020  002945   \n",
      "3      nan      nan      nan      nan       3  2013  20113201  100020  002945   \n",
      "4      nan      nan      nan      nan       3  2013  20113201  100020  002945   \n",
      "\n",
      "  EDWT  \n",
      "0  nan  \n",
      "1  nan  \n",
      "2  nan  \n",
      "3  nan  \n",
      "4  nan  \n",
      "\n",
      "[5 rows x 579 columns]\n"
     ]
    }
   ],
   "source": [
    "print(df_ed.head(n=5))"
   ]
  },
  {
   "cell_type": "code",
   "execution_count": 6,
   "id": "26c61ce5",
   "metadata": {},
   "outputs": [
    {
     "name": "stdout",
     "output_type": "stream",
     "text": [
      "(24777, 579)\n"
     ]
    }
   ],
   "source": [
    "print(df_ed.shape)"
   ]
  },
  {
   "cell_type": "code",
   "execution_count": 7,
   "id": "660940de",
   "metadata": {},
   "outputs": [],
   "source": [
    "response_cols = ['ADMITHOS','TRANOTH','TRANPSYC','OBSHOS','OBSDIS']\n",
    "\n",
    "df_ed.loc[:, response_cols] = df_ed.loc[:, response_cols].apply(pd.to_numeric)\n",
    "\n",
    "df_ed['ADMITTEMP'] = df_ed[response_cols].sum(axis=1)\n",
    "df_ed['ADMITFINAL'] = 0\n",
    "df_ed.loc[df_ed['ADMITTEMP'] >= 1, 'ADMITFINAL'] = 1\n",
    "\n",
    "df_ed.drop(response_cols, axis=1, inplace=True)\n",
    "df_ed.drop('ADMITTEMP', axis=1, inplace=True)"
   ]
  },
  {
   "cell_type": "code",
   "execution_count": 9,
   "id": "0ed15e69",
   "metadata": {},
   "outputs": [],
   "source": [
    "def split_target(data, target_name):\n",
    "    target = data[[target_name]]\n",
    "    data.drop(target_name, axis=1, inplace=True)\n",
    "    return (data, target)\n",
    "\n",
    "X, y = split_target(df_ed, 'ADMITFINAL')"
   ]
  },
  {
   "cell_type": "code",
   "execution_count": 10,
   "id": "b76e9282",
   "metadata": {},
   "outputs": [],
   "source": [
    "from sklearn.model_selection import train_test_split\n",
    "\n",
    "X_train, X_test, y_train, y_test = train_test_split(\n",
    "    X, y, test_size=0.25, random_state=1234\n",
    ") "
   ]
  },
  {
   "cell_type": "code",
   "execution_count": 11,
   "id": "642760ca",
   "metadata": {},
   "outputs": [
    {
     "name": "stdout",
     "output_type": "stream",
     "text": [
      "ADMITFINAL\n",
      "0    15996\n",
      "1     2586\n",
      "dtype: int64\n"
     ]
    }
   ],
   "source": [
    "print(y_train.groupby('ADMITFINAL').size())"
   ]
  },
  {
   "cell_type": "code",
   "execution_count": null,
   "id": "a3309446",
   "metadata": {},
   "outputs": [],
   "source": []
  }
 ],
 "metadata": {
  "kernelspec": {
   "display_name": "Python 3",
   "language": "python",
   "name": "python3"
  },
  "language_info": {
   "codemirror_mode": {
    "name": "ipython",
    "version": 3
   },
   "file_extension": ".py",
   "mimetype": "text/x-python",
   "name": "python",
   "nbconvert_exporter": "python",
   "pygments_lexer": "ipython3",
   "version": "3.7.1"
  }
 },
 "nbformat": 4,
 "nbformat_minor": 5
}
